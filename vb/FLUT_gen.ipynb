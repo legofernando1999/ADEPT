{
 "cells": [
  {
   "cell_type": "code",
   "execution_count": 25,
   "metadata": {},
   "outputs": [],
   "source": [
    "# import packages\n",
    "import numpy as np\n",
    "import pandas as pd"
   ]
  },
  {
   "cell_type": "code",
   "execution_count": 26,
   "metadata": {},
   "outputs": [
    {
     "name": "stdout",
     "output_type": "stream",
     "text": [
      "<class 'pandas.core.frame.DataFrame'>\n",
      "RangeIndex: 200 entries, 0 to 199\n",
      "Data columns (total 37 columns):\n",
      " #   Column        Non-Null Count  Dtype  \n",
      "---  ------        --------------  -----  \n",
      " 0   -             200 non-null    float64\n",
      " 1   ft            200 non-null    float64\n",
      " 2   psig          200 non-null    float64\n",
      " 3   °F            200 non-null    float64\n",
      " 4   g/cc          200 non-null    int64  \n",
      " 5   cP            200 non-null    int64  \n",
      " 6   Unnamed: 6    0 non-null      float64\n",
      " 7   Unnamed: 7    0 non-null      float64\n",
      " 8   gAsp_L1/gAsp  200 non-null    float64\n",
      " 9   wtfrac        200 non-null    float64\n",
      " 10  Unnamed: 10   200 non-null    float64\n",
      " 11  wt%           200 non-null    int64  \n",
      " 12  Unnamed: 12   200 non-null    float64\n",
      " 13  Unnamed: 13   200 non-null    float64\n",
      " 14  g/cc.1        200 non-null    int64  \n",
      " 15  Unnamed: 15   200 non-null    float64\n",
      " 16  Unnamed: 16   200 non-null    float64\n",
      " 17  Unnamed: 17   200 non-null    float64\n",
      " 18  MPa½          200 non-null    int64  \n",
      " 19  Unnamed: 19   200 non-null    float64\n",
      " 20  Unnamed: 20   200 non-null    float64\n",
      " 21  Unnamed: 21   200 non-null    float64\n",
      " 22  cP.1          200 non-null    int64  \n",
      " 23  Unnamed: 23   200 non-null    float64\n",
      " 24  Unnamed: 24   200 non-null    float64\n",
      " 25  Unnamed: 25   0 non-null      float64\n",
      " 26  1/s           0 non-null      float64\n",
      " 27  Unnamed: 27   0 non-null      float64\n",
      " 28  Unnamed: 28   0 non-null      float64\n",
      " 29  g/g           200 non-null    float64\n",
      " 30  Unnamed: 30   200 non-null    float64\n",
      " 31  in            200 non-null    float64\n",
      " 32  Unnamed: 32   200 non-null    float64\n",
      " 33  Unnamed: 33   200 non-null    float64\n",
      " 34  Unnamed: 34   200 non-null    float64\n",
      " 35  g/m2/d        200 non-null    float64\n",
      " 36  kg            200 non-null    float64\n",
      "dtypes: float64(31), int64(6)\n",
      "memory usage: 57.9 KB\n"
     ]
    }
   ],
   "source": [
    "# set workbook and sheet name\n",
    "wb_name = 'ADEPT(2023-01-17).xlsm'\n",
    "sh_name = 'Fluid-LUT'\n",
    "\n",
    "#tags = ('depth', 'depth_ft', 'P_psig', 'T_F', 'yAsp_L1', 'yAsp_L2', beta_V, )\n",
    "\n",
    "# get tags\n",
    "df_tags = pd.read_excel(wb_name, sheet_name=sh_name, nrows=2)\n",
    "\n",
    "# get numerical data\n",
    "df = pd.read_excel(wb_name, sheet_name=sh_name, header=2)\n",
    "df.info()"
   ]
  },
  {
   "cell_type": "code",
   "execution_count": 27,
   "metadata": {},
   "outputs": [],
   "source": [
    "data = df.to_numpy()"
   ]
  },
  {
   "cell_type": "code",
   "execution_count": 28,
   "metadata": {},
   "outputs": [],
   "source": [
    "# unit conversions\n",
    "def convert_TF_to_TK(TF):\n",
    "    return (5/9)*(TF-32)+273.15\n",
    "\n",
    "def convert_Ppsi_to_Pbar(Ppsi):\n",
    "    return Ppsi * 0.0689475729\n",
    "\n",
    "def convert_ft_to_m(zft):\n",
    "    return zft * 0.3048"
   ]
  },
  {
   "cell_type": "code",
   "execution_count": 29,
   "metadata": {},
   "outputs": [],
   "source": [
    "# convert to standard units\n",
    "nZ, nProp = data.shape\n",
    "data[:,1] = convert_ft_to_m(data[:,1])      #depth\n",
    "data[:,2] = convert_Ppsi_to_Pbar(data[:,2]) #pressure\n",
    "data[:,3] = convert_TF_to_TK(data[:,3])     #temperature\n",
    "data[:,11:13] = data[:,11:13] / 100         #phase frac\n",
    "data[:,14:17] = data[:,14:17] * 1000        #density       \n",
    "data[:,18:22] = data[:,18:22] / 1000        #viscosity"
   ]
  },
  {
   "cell_type": "code",
   "execution_count": 30,
   "metadata": {},
   "outputs": [],
   "source": [
    "depth=data[:,1], \n",
    "P=data[:,2], \n",
    "T=data[:,3],\n",
    "Ceq=data[:,8],\n",
    "yAsp_V=np.zeros(nZ),\n",
    "yAsp_L1=data[:,9],\n",
    "yAsp_L2=data[:,10],\n",
    "wtFrac_V=data[:,11],\n",
    "wtFrac_L1=data[:,12],\n",
    "wtFrac_L2=data[:,13],\n",
    "dens_V=data[:,14],\n",
    "dens_L1=data[:,15],\n",
    "dens_L2=data[:,16],\n",
    "dens_Asp=data[:,17],\n",
    "SP_V=data[:,18],\n",
    "SP_L1=data[:,19],\n",
    "SP_L2=data[:,20],\n",
    "SP_Asp=data[:,21],\n",
    "visco_V=data[:,22],\n",
    "visco_L1=data[:,23],\n",
    "visco_L2=data[:,24],\n",
    "visco_Asp=data[:,25]"
   ]
  }
 ],
 "metadata": {
  "kernelspec": {
   "display_name": "base",
   "language": "python",
   "name": "python3"
  },
  "language_info": {
   "codemirror_mode": {
    "name": "ipython",
    "version": 3
   },
   "file_extension": ".py",
   "mimetype": "text/x-python",
   "name": "python",
   "nbconvert_exporter": "python",
   "pygments_lexer": "ipython3",
   "version": "3.9.15 (main, Nov  4 2022, 16:35:55) [MSC v.1916 64 bit (AMD64)]"
  },
  "orig_nbformat": 4,
  "vscode": {
   "interpreter": {
    "hash": "158f0687c3429c121fdcd1e2375d4034be59bca1150921d5c6c5b8ccc4148f7c"
   }
  }
 },
 "nbformat": 4,
 "nbformat_minor": 2
}
