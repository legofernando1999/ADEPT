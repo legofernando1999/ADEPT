{
 "cells": [
  {
   "cell_type": "code",
   "execution_count": 3,
   "metadata": {},
   "outputs": [],
   "source": [
    "# import packages\n",
    "import numpy as np\n",
    "from utils import json_to_stdUnits\n",
    "import json"
   ]
  },
  {
   "cell_type": "code",
   "execution_count": 4,
   "metadata": {},
   "outputs": [],
   "source": [
    "# read file\n",
    "file_name = r'.\\data\\Fluid-LUT\\PC003-PR78.json'\n",
    "data = json_to_stdUnits(file_name)"
   ]
  },
  {
   "cell_type": "code",
   "execution_count": 5,
   "metadata": {},
   "outputs": [],
   "source": [
    "# unit conversions\n",
    "def convert_TF_to_TK(TF):\n",
    "    return (5/9)*(TF-32)+273.15\n",
    "\n",
    "def convert_Ppsi_to_Pbar(Ppsi):\n",
    "    return Ppsi * 0.0689475729\n",
    "\n",
    "def convert_ft_to_m(zft):\n",
    "    return zft * 0.3048"
   ]
  },
  {
   "cell_type": "code",
   "execution_count": 6,
   "metadata": {},
   "outputs": [],
   "source": [
    "# extract prop_table and units\n",
    "prop_label = data['prop_label']\n",
    "prop_unit = data['prop_unit']\n",
    "prop_table = data['prop_table']\n",
    "coord_label = data['coord_label']\n",
    "coord_unit = data['coord_unit']\n",
    "\n",
    "coord_vals = data[coord_label[0]], data[coord_label[1]], data[coord_label[2]]\n",
    "np_prop = np.array(prop_table)\n",
    "\n",
    "# extract vals\n",
    "P = np.array(data[coord_label[1]])\n",
    "T = np.array(data[coord_label[2]])"
   ]
  },
  {
   "cell_type": "code",
   "execution_count": 7,
   "metadata": {},
   "outputs": [],
   "source": [
    "# convert units\n",
    "P = convert_Ppsi_to_Pbar(P)\n",
    "T = convert_TF_to_TK(T)\n",
    "np_prop[:,10:13] = np_prop[:,10:13] * 1000 #dens\n",
    "np_prop[:,34:36] = np_prop[:,34:36] / 1000 #visco"
   ]
  },
  {
   "cell_type": "code",
   "execution_count": 11,
   "metadata": {},
   "outputs": [
    {
     "name": "stdout",
     "output_type": "stream",
     "text": [
      "(42, 2, 100, 50)\n"
     ]
    }
   ],
   "source": [
    "# put back in dict\n",
    "data[coord_label[1]] = P.tolist()\n",
    "data[coord_label[2]] = T.tolist()\n",
    "data['prop_table'] = np_prop.tolist()\n",
    "np_prop2 = np.array(data['prop_table'])\n",
    "print(np_prop2.shape)"
   ]
  },
  {
   "cell_type": "code",
   "execution_count": 12,
   "metadata": {},
   "outputs": [],
   "source": [
    "# save dict to json\n",
    "with open(file_name, 'w') as fp:\n",
    "    json.dump(data, fp)"
   ]
  }
 ],
 "metadata": {
  "kernelspec": {
   "display_name": "base",
   "language": "python",
   "name": "python3"
  },
  "language_info": {
   "codemirror_mode": {
    "name": "ipython",
    "version": 3
   },
   "file_extension": ".py",
   "mimetype": "text/x-python",
   "name": "python",
   "nbconvert_exporter": "python",
   "pygments_lexer": "ipython3",
   "version": "3.9.15"
  },
  "orig_nbformat": 4,
  "vscode": {
   "interpreter": {
    "hash": "158f0687c3429c121fdcd1e2375d4034be59bca1150921d5c6c5b8ccc4148f7c"
   }
  }
 },
 "nbformat": 4,
 "nbformat_minor": 2
}
