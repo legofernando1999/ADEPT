{
 "cells": [
  {
   "cell_type": "code",
   "execution_count": 1,
   "metadata": {},
   "outputs": [],
   "source": [
    "# import packages\n",
    "import numpy as np\n",
    "import pandas as pd\n",
    "import json"
   ]
  },
  {
   "cell_type": "code",
   "execution_count": 2,
   "metadata": {},
   "outputs": [],
   "source": [
    "# unit conversions\n",
    "def convert_TF_to_TK(TF):\n",
    "    return (5/9)*(TF-32)+273.15\n",
    "\n",
    "def convert_Ppsi_to_Pbar(Ppsi):\n",
    "    return Ppsi * 0.0689475729\n",
    "\n",
    "def convert_ft_to_m(zft):\n",
    "    return zft * 0.3048"
   ]
  },
  {
   "cell_type": "code",
   "execution_count": 3,
   "metadata": {},
   "outputs": [
    {
     "name": "stdout",
     "output_type": "stream",
     "text": [
      "<class 'pandas.core.frame.DataFrame'>\n",
      "RangeIndex: 200 entries, 0 to 199\n",
      "Data columns (total 37 columns):\n",
      " #   Column        Non-Null Count  Dtype  \n",
      "---  ------        --------------  -----  \n",
      " 0   -             200 non-null    float64\n",
      " 1   ft            200 non-null    float64\n",
      " 2   psig          200 non-null    float64\n",
      " 3   °F            200 non-null    float64\n",
      " 4   g/cc          200 non-null    int64  \n",
      " 5   cP            200 non-null    int64  \n",
      " 6   Unnamed: 6    0 non-null      float64\n",
      " 7   Unnamed: 7    0 non-null      float64\n",
      " 8   gAsp_L1/gAsp  200 non-null    float64\n",
      " 9   wtfrac        200 non-null    float64\n",
      " 10  Unnamed: 10   200 non-null    float64\n",
      " 11  wt%           200 non-null    int64  \n",
      " 12  Unnamed: 12   200 non-null    float64\n",
      " 13  Unnamed: 13   200 non-null    float64\n",
      " 14  g/cc.1        200 non-null    int64  \n",
      " 15  Unnamed: 15   200 non-null    float64\n",
      " 16  Unnamed: 16   200 non-null    float64\n",
      " 17  Unnamed: 17   200 non-null    float64\n",
      " 18  MPa½          200 non-null    int64  \n",
      " 19  Unnamed: 19   200 non-null    float64\n",
      " 20  Unnamed: 20   200 non-null    float64\n",
      " 21  Unnamed: 21   200 non-null    float64\n",
      " 22  cP.1          200 non-null    int64  \n",
      " 23  Unnamed: 23   200 non-null    float64\n",
      " 24  Unnamed: 24   200 non-null    float64\n",
      " 25  Unnamed: 25   200 non-null    int64  \n",
      " 26  1/s           0 non-null      float64\n",
      " 27  Unnamed: 27   0 non-null      float64\n",
      " 28  Unnamed: 28   0 non-null      float64\n",
      " 29  g/g           200 non-null    float64\n",
      " 30  Unnamed: 30   200 non-null    float64\n",
      " 31  in            200 non-null    float64\n",
      " 32  Unnamed: 32   200 non-null    float64\n",
      " 33  Unnamed: 33   200 non-null    float64\n",
      " 34  Unnamed: 34   200 non-null    float64\n",
      " 35  g/m2/d        200 non-null    float64\n",
      " 36  kg            200 non-null    float64\n",
      "dtypes: float64(30), int64(7)\n",
      "memory usage: 57.9 KB\n"
     ]
    }
   ],
   "source": [
    "# set workbook and sheet name\n",
    "wb_name = 'ADEPT(2023-01-17).xlsm'\n",
    "sh_name = 'Fluid-LUT'\n",
    "\n",
    "#tags : ('depth', 'depth_ft', 'P_psig', 'T_F', 'yAsp_L1', 'yAsp_L2', beta_V, )\n",
    "\n",
    "# get tags\n",
    "df_tags = pd.read_excel(wb_name, sheet_name=sh_name, nrows=2)\n",
    "\n",
    "# get numerical data\n",
    "df = pd.read_excel(wb_name, sheet_name=sh_name, header=2)\n",
    "df.info()"
   ]
  },
  {
   "cell_type": "code",
   "execution_count": 4,
   "metadata": {},
   "outputs": [],
   "source": [
    "data = df.to_numpy()"
   ]
  },
  {
   "cell_type": "code",
   "execution_count": 6,
   "metadata": {},
   "outputs": [],
   "source": [
    "# convert to standard units\n",
    "nZ, nProp = data.shape\n",
    "z = convert_ft_to_m(data[:,1])      #depth (ft to m)\n",
    "P = convert_Ppsi_to_Pbar(data[:,2]) #pressure (psi to bar)\n",
    "T = convert_TF_to_TK(data[:,3])     #temperature (F to K)\n",
    "beta = data[:,11:14] / 100         #phase frac (wt% -> wtf)\n",
    "dens = data[:,14:17] * 1000        #density (g/cc -> kg/m3)\n",
    "dens_Asp = data[:,17] * 1000\n",
    "visco = data[:,22:26] / 1000        #viscosity (cP -> Pa.s)"
   ]
  },
  {
   "cell_type": "code",
   "execution_count": 7,
   "metadata": {},
   "outputs": [
    {
     "name": "stderr",
     "output_type": "stream",
     "text": [
      "C:\\Users\\cjsis\\AppData\\Local\\Temp\\ipykernel_22044\\1070966314.py:2: RuntimeWarning: invalid value encountered in true_divide\n",
      "  volFrac = np.nan_to_num(beta/dens, copy=False)\n"
     ]
    }
   ],
   "source": [
    "# volume fraction\n",
    "volFrac = np.nan_to_num(beta/dens, copy=False)\n",
    "\n",
    "sumFrac = np.sum(volFrac, axis=1)\n",
    "volFrac = volFrac / sumFrac.reshape(volFrac.shape[0],1)"
   ]
  },
  {
   "cell_type": "code",
   "execution_count": 8,
   "metadata": {},
   "outputs": [],
   "source": [
    "# populate dict\n",
    "my_dict = {\n",
    "    'depth': z.tolist(), \n",
    "    'P': P.tolist(), \n",
    "    'T': T.tolist(),\n",
    "    'Ceq': data[:,8].tolist(),\n",
    "    'yAsp_V': np.zeros(nZ).tolist(),\n",
    "    'yAsp_L1': data[:,9].tolist(),\n",
    "    'yAsp_L2': data[:,10].tolist(),\n",
    "    'wtFrac_V': beta[:,0].tolist(),\n",
    "    'wtFrac_L1': beta[:,1].tolist(),\n",
    "    'wtFrac_L2': beta[:,2].tolist(),\n",
    "    'volFrac_V': volFrac[:,0].tolist(),\n",
    "    'volFrac_L1': volFrac[:,1].tolist(),\n",
    "    'volFrac_L2': volFrac[:,2].tolist(),\n",
    "    'dens_V': dens[:,0].tolist(),\n",
    "    'dens_L1': dens[:,1].tolist(),\n",
    "    'dens_L2': dens[:,2].tolist(),\n",
    "    'dens_Asp': dens_Asp.tolist(),\n",
    "    'SP_V': data[:,18].tolist(),\n",
    "    'SP_L1': data[:,19].tolist(),\n",
    "    'SP_L2': data[:,20].tolist(),\n",
    "    'SP_Asp': data[:,21].tolist(),\n",
    "    'visco_V': visco[:,0].tolist(),\n",
    "    'visco_L1': visco[:,1].tolist(),\n",
    "    'visco_L2': visco[:,2].tolist(),\n",
    "    'visco_Asp': np.zeros(nZ).tolist()\n",
    "}"
   ]
  },
  {
   "cell_type": "code",
   "execution_count": null,
   "metadata": {},
   "outputs": [],
   "source": [
    "depth = my_dict['depth']\n",
    "dens_L1 = my_dict['dens_L1']\n",
    "visco_L1 = my_dict['visco_L1']"
   ]
  },
  {
   "cell_type": "code",
   "execution_count": null,
   "metadata": {},
   "outputs": [],
   "source": [
    "# save to json\n",
    "json_name = 'temp_json.json'\n",
    "with open(json_name, 'w') as json_file:\n",
    "    json.dump(my_dict, json_file)"
   ]
  }
 ],
 "metadata": {
  "kernelspec": {
   "display_name": "base",
   "language": "python",
   "name": "python3"
  },
  "language_info": {
   "codemirror_mode": {
    "name": "ipython",
    "version": 3
   },
   "file_extension": ".py",
   "mimetype": "text/x-python",
   "name": "python",
   "nbconvert_exporter": "python",
   "pygments_lexer": "ipython3",
   "version": "3.9.15 (main, Nov  4 2022, 16:35:55) [MSC v.1916 64 bit (AMD64)]"
  },
  "orig_nbformat": 4,
  "vscode": {
   "interpreter": {
    "hash": "158f0687c3429c121fdcd1e2375d4034be59bca1150921d5c6c5b8ccc4148f7c"
   }
  }
 },
 "nbformat": 4,
 "nbformat_minor": 2
}
