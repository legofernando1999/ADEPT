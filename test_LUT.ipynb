{
 "cells": [
  {
   "cell_type": "code",
   "execution_count": 14,
   "metadata": {},
   "outputs": [],
   "source": [
    "# import packages\n",
    "import numpy as np\n",
    "from utils import json_to_stdUnits\n",
    "import json"
   ]
  },
  {
   "cell_type": "code",
   "execution_count": 15,
   "metadata": {},
   "outputs": [],
   "source": [
    "# read file\n",
    "file_name = r'.\\data\\Fluid-LUT\\PC003-PR78.json'\n",
    "data = json_to_stdUnits(file_name)"
   ]
  },
  {
   "cell_type": "code",
   "execution_count": 16,
   "metadata": {},
   "outputs": [],
   "source": [
    "# unit conversions\n",
    "def convert_TF_to_TK(TF):\n",
    "    return (5/9)*(TF-32)+273.15\n",
    "\n",
    "def convert_Ppsi_to_Pbar(Ppsi):\n",
    "    return Ppsi * 0.0689475729\n",
    "\n",
    "def convert_ft_to_m(zft):\n",
    "    return zft * 0.3048"
   ]
  },
  {
   "cell_type": "code",
   "execution_count": 17,
   "metadata": {},
   "outputs": [],
   "source": [
    "# extract prop_table and units\n",
    "prop_label = data['prop_label']\n",
    "prop_unit = data['prop_unit']\n",
    "prop_table = data['prop_table']\n",
    "coord_label = data['coord_label']\n",
    "coord_unit = data['coord_unit']\n",
    "\n",
    "coord_vals = data[coord_label[0]], data[coord_label[1]], data[coord_label[2]]\n",
    "np_prop = np.array(prop_table)\n",
    "\n",
    "# extract vals\n",
    "P = np.array(data[coord_label[1]])\n",
    "T = np.array(data[coord_label[2]])"
   ]
  },
  {
   "cell_type": "code",
   "execution_count": 7,
   "metadata": {},
   "outputs": [],
   "source": [
    "# convert units\n",
    "P = convert_Ppsi_to_Pbar(P)\n",
    "T = convert_TF_to_TK(T)\n",
    "np_prop[10:13] = np_prop[10:13] * 1000 #dens\n",
    "np_prop[34:36] = np_prop[34:36] / 1000 #visco"
   ]
  },
  {
   "cell_type": "code",
   "execution_count": 11,
   "metadata": {},
   "outputs": [
    {
     "name": "stdout",
     "output_type": "stream",
     "text": [
      "(42, 2, 100, 50)\n"
     ]
    }
   ],
   "source": [
    "# put back in dict\n",
    "data[coord_label[1]] = P.tolist()\n",
    "data[coord_label[2]] = T.tolist()\n",
    "data['prop_table'] = np_prop.tolist()\n",
    "np_prop2 = np.array(data['prop_table'])\n",
    "print(np_prop2.shape)"
   ]
  },
  {
   "cell_type": "code",
   "execution_count": 12,
   "metadata": {},
   "outputs": [],
   "source": [
    "# save dict to json\n",
    "with open(file_name, 'w') as fp:\n",
    "    json.dump(data, fp)"
   ]
  },
  {
   "cell_type": "code",
   "execution_count": 20,
   "metadata": {},
   "outputs": [
    {
     "ename": "AttributeError",
     "evalue": "'str' object has no attribute 'name'",
     "output_type": "error",
     "traceback": [
      "\u001b[1;31m---------------------------------------------------------------------------\u001b[0m",
      "\u001b[1;31mAttributeError\u001b[0m                            Traceback (most recent call last)",
      "Cell \u001b[1;32mIn [20], line 4\u001b[0m\n\u001b[0;32m      2\u001b[0m \u001b[39mfrom\u001b[39;00m \u001b[39mutils\u001b[39;00m \u001b[39mimport\u001b[39;00m xlsx_to_json\n\u001b[0;32m      3\u001b[0m file_name \u001b[39m=\u001b[39m \u001b[39mr\u001b[39m\u001b[39m'\u001b[39m\u001b[39mC:\u001b[39m\u001b[39m\\\u001b[39m\u001b[39mUsers\u001b[39m\u001b[39m\\\u001b[39m\u001b[39mcjsis\u001b[39m\u001b[39m\\\u001b[39m\u001b[39mDocuments\u001b[39m\u001b[39m\\\u001b[39m\u001b[39mGithub\u001b[39m\u001b[39m\\\u001b[39m\u001b[39mENNOVA\u001b[39m\u001b[39m\\\u001b[39m\u001b[39mADEPT\u001b[39m\u001b[39m\\\u001b[39m\u001b[39mdata\u001b[39m\u001b[39m\\\u001b[39m\u001b[39mFluid-LUT\u001b[39m\u001b[39m\\\u001b[39m\u001b[39mlookup_PC003-PR78.xlsx\u001b[39m\u001b[39m'\u001b[39m\n\u001b[1;32m----> 4\u001b[0m out \u001b[39m=\u001b[39m xlsx_to_json(file_name)\n",
      "File \u001b[1;32mc:\\Users\\cjsis\\Documents\\Github\\ENNOVA\\ADEPT\\utils.py:22\u001b[0m, in \u001b[0;36mxlsx_to_json\u001b[1;34m(uploaded_file)\u001b[0m\n\u001b[0;32m     11\u001b[0m \u001b[39m\"\"\"\u001b[39;00m\n\u001b[0;32m     12\u001b[0m \u001b[39mreturns 4D data block in json format from input xls file\u001b[39;00m\n\u001b[0;32m     13\u001b[0m \u001b[39m\u001b[39;00m\n\u001b[1;32m   (...)\u001b[0m\n\u001b[0;32m     18\u001b[0m \u001b[39m    dict [json]: json file\u001b[39;00m\n\u001b[0;32m     19\u001b[0m \u001b[39m\"\"\"\u001b[39;00m\n\u001b[0;32m     21\u001b[0m \u001b[39m# remove file prefixes/suffixes\u001b[39;00m\n\u001b[1;32m---> 22\u001b[0m fluid \u001b[39m=\u001b[39m uploaded_file\u001b[39m.\u001b[39;49mname\u001b[39m.\u001b[39mreplace(\u001b[39m'\u001b[39m\u001b[39m.xlsx\u001b[39m\u001b[39m'\u001b[39m, \u001b[39m'\u001b[39m\u001b[39m'\u001b[39m)\n\u001b[0;32m     23\u001b[0m fluid \u001b[39m=\u001b[39m fluid\u001b[39m.\u001b[39mreplace(\u001b[39m'\u001b[39m\u001b[39mlookup_\u001b[39m\u001b[39m'\u001b[39m, \u001b[39m'\u001b[39m\u001b[39m'\u001b[39m)\n\u001b[0;32m     25\u001b[0m \u001b[39m# create excel object and create dataFrame\u001b[39;00m\n",
      "\u001b[1;31mAttributeError\u001b[0m: 'str' object has no attribute 'name'"
     ]
    }
   ],
   "source": [
    "# convert xls to json\n",
    "from utils import xlsx_to_json\n",
    "file_name = r'C:\\Users\\cjsis\\Documents\\Github\\ENNOVA\\ADEPT\\data\\Fluid-LUT\\lookup_PC003-PR78.xlsx'\n",
    "out = xlsx_to_json(file_name)"
   ]
  }
 ],
 "metadata": {
  "kernelspec": {
   "display_name": "base",
   "language": "python",
   "name": "python3"
  },
  "language_info": {
   "codemirror_mode": {
    "name": "ipython",
    "version": 3
   },
   "file_extension": ".py",
   "mimetype": "text/x-python",
   "name": "python",
   "nbconvert_exporter": "python",
   "pygments_lexer": "ipython3",
   "version": "3.9.15 (main, Nov  4 2022, 16:35:55) [MSC v.1916 64 bit (AMD64)]"
  },
  "orig_nbformat": 4,
  "vscode": {
   "interpreter": {
    "hash": "158f0687c3429c121fdcd1e2375d4034be59bca1150921d5c6c5b8ccc4148f7c"
   }
  }
 },
 "nbformat": 4,
 "nbformat_minor": 2
}
