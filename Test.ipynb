{
 "cells": [
  {
   "cell_type": "code",
   "execution_count": null,
   "metadata": {},
   "outputs": [],
   "source": [
    "import numpy as np"
   ]
  },
  {
   "cell_type": "code",
   "execution_count": null,
   "metadata": {},
   "outputs": [],
   "source": [
    "A = np.diag(np.arange(5)) + np.diag(np.arange(4, 8), k=1) + np.diag(1 + 27*np.ones(4), k=-1)\n",
    "A"
   ]
  },
  {
   "cell_type": "code",
   "execution_count": null,
   "metadata": {},
   "outputs": [],
   "source": [
    "np.shape(A)"
   ]
  },
  {
   "cell_type": "code",
   "execution_count": null,
   "metadata": {},
   "outputs": [],
   "source": [
    "a = np.arange(5)\n",
    "b = np.arange(6, 11)\n",
    "a*b"
   ]
  },
  {
   "cell_type": "code",
   "execution_count": null,
   "metadata": {},
   "outputs": [],
   "source": [
    "nz = 10\n",
    "z = np.linspace(0, 1, nz)\n",
    "z[2] - z[1]"
   ]
  },
  {
   "cell_type": "code",
   "execution_count": null,
   "metadata": {},
   "outputs": [],
   "source": [
    "z"
   ]
  },
  {
   "cell_type": "code",
   "execution_count": null,
   "metadata": {},
   "outputs": [],
   "source": [
    "np.ones_like(z).size"
   ]
  },
  {
   "cell_type": "code",
   "execution_count": null,
   "metadata": {},
   "outputs": [],
   "source": [
    "np.ones(nz).size"
   ]
  },
  {
   "cell_type": "code",
   "execution_count": null,
   "metadata": {},
   "outputs": [],
   "source": [
    "from scipy.interpolate import RegularGridInterpolator\n",
    "import numpy as np\n",
    "\n",
    "def f(x, y, z):\n",
    "    return 2 * x**3 + 3 * y**2 - z\n",
    "\n",
    "x = np.linspace(0, 4, 11)\n",
    "y = np.linspace(4, 9, 22)\n",
    "z = np.linspace(7, 12, 33)\n",
    "xg, yg ,zg = np.meshgrid(x, y, z, indexing='ij', sparse=True)\n",
    "data = f(xg, yg, zg)"
   ]
  },
  {
   "cell_type": "code",
   "execution_count": null,
   "metadata": {},
   "outputs": [],
   "source": [
    "interp = RegularGridInterpolator((x, y, z), data)\n",
    "X = np.arange(4)\n",
    "Y = np.arange(4, 8)\n",
    "Z = np.arange(7, 11)"
   ]
  },
  {
   "cell_type": "code",
   "execution_count": null,
   "metadata": {},
   "outputs": [],
   "source": [
    "pts = np.column_stack((X, Y, Z))\n",
    "pts"
   ]
  },
  {
   "cell_type": "code",
   "execution_count": null,
   "metadata": {},
   "outputs": [],
   "source": [
    "# pts = np.array([[2.1, 6.2, 8.3], [3.3, 5.2, 7.1]])\n",
    "interp(pts)"
   ]
  },
  {
   "cell_type": "code",
   "execution_count": 48,
   "metadata": {},
   "outputs": [],
   "source": [
    "# importing the module\n",
    "import json\n",
    "# Opening JSON file\n",
    "with open(r'C:\\Users\\Satellite\\Documents\\ADEPT\\data\\Fluid-LUT\\PC003-PR78.json') as json_file:\n",
    "    data = json.load(json_file)"
   ]
  },
  {
   "cell_type": "code",
   "execution_count": 49,
   "metadata": {},
   "outputs": [
    {
     "data": {
      "text/plain": [
       "[122.0,\n",
       " 123.244897959184,\n",
       " 124.489795918367,\n",
       " 125.734693877551,\n",
       " 126.979591836735,\n",
       " 128.224489795918,\n",
       " 129.469387755102,\n",
       " 130.714285714286,\n",
       " 131.959183673469,\n",
       " 133.204081632653,\n",
       " 134.448979591837,\n",
       " 135.69387755102,\n",
       " 136.938775510204,\n",
       " 138.183673469388,\n",
       " 139.428571428571,\n",
       " 140.673469387755,\n",
       " 141.918367346939,\n",
       " 143.163265306122,\n",
       " 144.408163265306,\n",
       " 145.65306122449,\n",
       " 146.897959183673,\n",
       " 148.142857142857,\n",
       " 149.387755102041,\n",
       " 150.632653061224,\n",
       " 151.877551020408,\n",
       " 153.122448979592,\n",
       " 154.367346938776,\n",
       " 155.612244897959,\n",
       " 156.857142857143,\n",
       " 158.102040816327,\n",
       " 159.34693877551,\n",
       " 160.591836734694,\n",
       " 161.836734693878,\n",
       " 163.081632653061,\n",
       " 164.326530612245,\n",
       " 165.571428571429,\n",
       " 166.816326530612,\n",
       " 168.061224489796,\n",
       " 169.30612244898,\n",
       " 170.551020408163,\n",
       " 171.795918367347,\n",
       " 173.040816326531,\n",
       " 174.285714285714,\n",
       " 175.530612244898,\n",
       " 176.775510204082,\n",
       " 178.020408163265,\n",
       " 179.265306122449,\n",
       " 180.510204081633,\n",
       " 181.755102040816,\n",
       " 183.0]"
      ]
     },
     "execution_count": 49,
     "metadata": {},
     "output_type": "execute_result"
    }
   ],
   "source": [
    "data['T']"
   ]
  },
  {
   "cell_type": "code",
   "execution_count": 52,
   "metadata": {},
   "outputs": [
    {
     "data": {
      "text/plain": [
       "357.0388888888889"
      ]
     },
     "execution_count": 52,
     "metadata": {},
     "output_type": "execute_result"
    }
   ],
   "source": [
    "(5/9)*(183-32.)+273.15"
   ]
  },
  {
   "cell_type": "code",
   "execution_count": null,
   "metadata": {},
   "outputs": [],
   "source": [
    "data[\"prop_label\"].index('dens_V')"
   ]
  },
  {
   "cell_type": "code",
   "execution_count": null,
   "metadata": {},
   "outputs": [],
   "source": [
    "np.arange(len(data['prop_label']))"
   ]
  },
  {
   "cell_type": "code",
   "execution_count": null,
   "metadata": {},
   "outputs": [],
   "source": [
    "mylist = data['prop_label']\n",
    "mylist.index('Ceq')"
   ]
  },
  {
   "cell_type": "code",
   "execution_count": null,
   "metadata": {},
   "outputs": [],
   "source": [
    "x = np.arange(12)\n",
    "x = np.where(x < 6, x, 0)"
   ]
  },
  {
   "cell_type": "code",
   "execution_count": null,
   "metadata": {},
   "outputs": [],
   "source": [
    "x"
   ]
  },
  {
   "cell_type": "code",
   "execution_count": null,
   "metadata": {},
   "outputs": [],
   "source": [
    "a = 1\n",
    "b = 2\n",
    "c = 4\n",
    "print(a/b/c, (a/b)/c, a/(b/c), a/(b*c))"
   ]
  },
  {
   "cell_type": "code",
   "execution_count": null,
   "metadata": {},
   "outputs": [],
   "source": [
    "a = np.array([1,2,3])\n",
    "b = np.array([4,5,6])\n",
    "c = np.array([7,8,9])\n",
    "\n",
    "abc = np.stack((a,b,c), axis=0)\n",
    "a1 = abc[0]\n",
    "\n",
    "print(abc)\n",
    "print(a)\n",
    "print(a1)"
   ]
  },
  {
   "cell_type": "code",
   "execution_count": null,
   "metadata": {},
   "outputs": [],
   "source": [
    "class Myobject():\n",
    "\n",
    "    def __init__(self, a, b, c):\n",
    "        self.a = a\n",
    "        self.b = b\n",
    "        self.c = c"
   ]
  },
  {
   "cell_type": "code",
   "execution_count": null,
   "metadata": {},
   "outputs": [],
   "source": [
    "someobject = Myobject(1, 2, 3)\n",
    "someobject.a"
   ]
  },
  {
   "cell_type": "code",
   "execution_count": null,
   "metadata": {},
   "outputs": [],
   "source": [
    "x = np.arange(5)\n",
    "y = np.arange(5)\n",
    "z = np.arange(5)\n",
    "XYZ = [x, y, z]\n",
    "stack = np.column_stack(XYZ)\n",
    "stack"
   ]
  },
  {
   "cell_type": "code",
   "execution_count": null,
   "metadata": {},
   "outputs": [],
   "source": [
    "np.sum(stack, axis=1)"
   ]
  },
  {
   "cell_type": "code",
   "execution_count": null,
   "metadata": {},
   "outputs": [],
   "source": [
    "A = np.ones(5)\n",
    "A_stack = A.reshape(A.size, 1)\n",
    "stack/A_stack"
   ]
  },
  {
   "cell_type": "code",
   "execution_count": null,
   "metadata": {},
   "outputs": [],
   "source": [
    "class fluid(object):\n",
    "\n",
    "    def __init__(self, T):\n",
    "        self.T = T\n",
    "\n",
    "myfluid = fluid(100)\n",
    "myfluid.T"
   ]
  },
  {
   "cell_type": "code",
   "execution_count": null,
   "metadata": {},
   "outputs": [],
   "source": [
    "myfluid.P = 2000"
   ]
  },
  {
   "cell_type": "code",
   "execution_count": null,
   "metadata": {},
   "outputs": [],
   "source": [
    "myfluid.P"
   ]
  },
  {
   "cell_type": "code",
   "execution_count": null,
   "metadata": {},
   "outputs": [],
   "source": [
    "import numpy as np\n",
    "A = np.arange(15).reshape((5, 3))\n",
    "A"
   ]
  },
  {
   "cell_type": "code",
   "execution_count": null,
   "metadata": {},
   "outputs": [],
   "source": [
    "A[:, :2]"
   ]
  },
  {
   "cell_type": "code",
   "execution_count": 2,
   "metadata": {},
   "outputs": [
    {
     "data": {
      "image/png": "[encoded data removed]",
      "text/plain": [
       "<Figure size 640x480 with 1 Axes>"
      ]
     },
     "metadata": {},
     "output_type": "display_data"
    }
   ],
   "source": [
    "# importing the module\n",
    "import json\n",
    "import numpy as np\n",
    "import matplotlib.pyplot as plt\n",
    "# Opening JSON file\n",
    "with open(r'C:\\Users\\Satellite\\Documents\\ADEPT\\output_json.json') as json_file:\n",
    "    data = json.load(json_file)\n",
    "\n",
    "delf_Asp = np.array(data['thickness'][0])\n",
    "delf_DM = np.array(data['thickness'][1])\n",
    "z = np.linspace(0, 1, delf_Asp.size)\n",
    "plt.plot(z, np.flip(delf_Asp), label='B_Asp')\n",
    "plt.plot(z, np.flip(delf_DM), label='B_DM')\n",
    "plt.title('ADEPT-Py')\n",
    "plt.legend()\n",
    "plt.grid(True)\n",
    "plt.xlabel('Depth')\n",
    "plt.ylabel('Fraction blocked')\n",
    "plt.ylim(0, 1)\n",
    "plt.xlim(0, 1)\n",
    "plt.show()"
   ]
  },
  {
   "cell_type": "code",
   "execution_count": 11,
   "metadata": {},
   "outputs": [
    {
     "data": {
      "text/plain": [
       "array([0.00000000e+00, 0.00000000e+00, 0.00000000e+00, 0.00000000e+00,\n",
       "       0.00000000e+00, 0.00000000e+00, 0.00000000e+00, 0.00000000e+00,\n",
       "       0.00000000e+00, 0.00000000e+00, 0.00000000e+00, 0.00000000e+00,\n",
       "       0.00000000e+00, 0.00000000e+00, 0.00000000e+00, 0.00000000e+00,\n",
       "       0.00000000e+00, 0.00000000e+00, 0.00000000e+00, 0.00000000e+00,\n",
       "       0.00000000e+00, 0.00000000e+00, 0.00000000e+00, 0.00000000e+00,\n",
       "       0.00000000e+00, 0.00000000e+00, 0.00000000e+00, 0.00000000e+00,\n",
       "       0.00000000e+00, 0.00000000e+00, 0.00000000e+00, 0.00000000e+00,\n",
       "       0.00000000e+00, 0.00000000e+00, 0.00000000e+00, 0.00000000e+00,\n",
       "       0.00000000e+00, 0.00000000e+00, 0.00000000e+00, 0.00000000e+00,\n",
       "       0.00000000e+00, 0.00000000e+00, 0.00000000e+00, 0.00000000e+00,\n",
       "       0.00000000e+00, 0.00000000e+00, 0.00000000e+00, 0.00000000e+00,\n",
       "       0.00000000e+00, 0.00000000e+00, 0.00000000e+00, 0.00000000e+00,\n",
       "       0.00000000e+00, 0.00000000e+00, 0.00000000e+00, 0.00000000e+00,\n",
       "       0.00000000e+00, 0.00000000e+00, 0.00000000e+00, 0.00000000e+00,\n",
       "       0.00000000e+00, 0.00000000e+00, 0.00000000e+00, 0.00000000e+00,\n",
       "       0.00000000e+00, 0.00000000e+00, 0.00000000e+00, 0.00000000e+00,\n",
       "       0.00000000e+00, 0.00000000e+00, 0.00000000e+00, 0.00000000e+00,\n",
       "       0.00000000e+00, 0.00000000e+00, 0.00000000e+00, 0.00000000e+00,\n",
       "       0.00000000e+00, 0.00000000e+00, 0.00000000e+00, 0.00000000e+00,\n",
       "       0.00000000e+00, 0.00000000e+00, 0.00000000e+00, 0.00000000e+00,\n",
       "       0.00000000e+00, 0.00000000e+00, 0.00000000e+00, 0.00000000e+00,\n",
       "       0.00000000e+00, 0.00000000e+00, 9.38313192e-12, 1.07982621e-08,\n",
       "       7.32956904e-08, 1.58526579e-07, 2.48163174e-07, 3.32336681e-07,\n",
       "       3.45683001e-07, 2.86064884e-07, 3.04017213e-07, 3.23747145e-07,\n",
       "       3.41889590e-07, 3.58467744e-07, 3.73023245e-07, 3.85477802e-07,\n",
       "       3.96890923e-07, 4.07204466e-07, 4.15917755e-07, 4.22851098e-07,\n",
       "       4.30083757e-07, 4.35548905e-07, 4.40408218e-07, 4.44812139e-07,\n",
       "       4.48839658e-07, 4.52527995e-07, 4.55855686e-07, 4.57395673e-07,\n",
       "       4.60373284e-07, 4.62844423e-07, 4.63989877e-07, 4.66047637e-07,\n",
       "       4.66999726e-07, 4.67382842e-07, 4.69467059e-07, 4.69836744e-07,\n",
       "       4.69940539e-07, 4.71746558e-07, 4.72020298e-07, 4.72043107e-07,\n",
       "       4.71945965e-07, 4.73492524e-07, 4.73747192e-07, 4.73737042e-07,\n",
       "       4.73635312e-07, 4.73482756e-07, 4.73299269e-07, 4.74791320e-07,\n",
       "       4.75023970e-07, 4.75039528e-07, 4.74996221e-07, 4.74928221e-07,\n",
       "       4.74850627e-07, 4.74772169e-07, 4.74698651e-07, 4.74634259e-07,\n",
       "       4.74582158e-07, 4.74544808e-07, 4.76274030e-07, 4.76544574e-07,\n",
       "       4.76723460e-07, 4.76880570e-07, 4.77035567e-07, 4.77197079e-07,\n",
       "       4.77369745e-07, 4.77556367e-07, 4.77758756e-07, 4.77978129e-07,\n",
       "       4.78215315e-07, 4.78470870e-07, 4.78745155e-07, 4.79038376e-07,\n",
       "       4.79350621e-07, 4.79681883e-07, 4.80032073e-07, 4.80401035e-07,\n",
       "       4.80788556e-07, 4.81194374e-07, 4.81618184e-07, 4.82059640e-07,\n",
       "       4.82518364e-07, 4.82993946e-07, 4.83485942e-07, 4.83993886e-07,\n",
       "       4.84517279e-07, 4.85055594e-07, 4.85608276e-07, 4.86174735e-07,\n",
       "       4.86754348e-07, 4.87346444e-07, 4.87950303e-07, 4.88565138e-07,\n",
       "       4.89190075e-07, 4.89824124e-07, 4.90466129e-07, 4.91114690e-07,\n",
       "       4.91768030e-07, 4.92423744e-07, 4.93078295e-07, 4.93725867e-07,\n",
       "       4.94355141e-07, 4.94936823e-07, 4.95305820e-07, 4.94672937e-07,\n",
       "       4.95453912e-07, 4.96239940e-07, 4.97031016e-07, 4.97826772e-07,\n",
       "       4.98627139e-07, 4.99431739e-07, 5.00239744e-07, 5.00376708e-07])"
      ]
     },
     "execution_count": 11,
     "metadata": {},
     "output_type": "execute_result"
    }
   ],
   "source": [
    "flux = np.array(data['flux'])\n",
    "thickness = np.array(data['thickness'])\n",
    "C = np.array(data['conc'])\n",
    "flux"
   ]
  },
  {
   "cell_type": "code",
   "execution_count": 25,
   "metadata": {},
   "outputs": [
    {
     "name": "stdout",
     "output_type": "stream",
     "text": [
      "0.7843613404565323 0.2156386595434677\n"
     ]
    }
   ],
   "source": [
    "Tot = 76*850 + 24*740\n",
    "print(76*850/Tot, 24*740/Tot)"
   ]
  },
  {
   "cell_type": "code",
   "execution_count": 26,
   "metadata": {},
   "outputs": [
    {
     "data": {
      "text/plain": [
       "1.8981544439048081"
      ]
     },
     "execution_count": 26,
     "metadata": {},
     "output_type": "execute_result"
    }
   ],
   "source": [
    "2.42*0.7843613404565323/1"
   ]
  },
  {
   "cell_type": "code",
   "execution_count": 38,
   "metadata": {},
   "outputs": [
    {
     "data": {
      "image/png": "[encoded data removed]",
      "text/plain": [
       "<Figure size 640x480 with 1 Axes>"
      ]
     },
     "metadata": {},
     "output_type": "display_data"
    }
   ],
   "source": [
    "# importing the module\n",
    "import json\n",
    "import numpy as np\n",
    "import matplotlib.pyplot as plt\n",
    "# Opening JSON file\n",
    "with open(r'C:\\Users\\Satellite\\Documents\\ADEPT\\output_json.json') as json_file:\n",
    "    data = json.load(json_file)\n",
    "\n",
    "R = 0.000508*0.5\n",
    "del_DM = np.array(data['thickness'])*R\n",
    "z = np.linspace(0, 1, del_DM.size)\n",
    "plt.plot(z, del_DM, label='thickness DM')\n",
    "plt.title('ADEPT-Py')\n",
    "plt.legend()\n",
    "plt.grid(True)\n",
    "plt.xlabel('Length')\n",
    "plt.ylabel('Deposit thickness (m)')\n",
    "plt.ylim(0, 5.e-5)\n",
    "plt.xlim(0, 1)\n",
    "plt.show()"
   ]
  },
  {
   "attachments": {},
   "cell_type": "markdown",
   "metadata": {},
   "source": [
    "**First PDE**\n",
    "\n",
    "$$\\frac{\\partial C_f}{\\partial \\tau} + \\frac{\\partial C_f}{\\partial Z} + Da_p C_f = Da_p C_{eq} $$\n",
    "\n",
    "Now let's use the finite difference method to solve this PDE\n",
    "\n",
    "**Forward-difference method, jth step in time:** \n",
    "$$\\frac{w_{i,j+1} - w_{i,j}}{\\Delta \\tau _{i,j}} + \\left( \\frac{w_{i+1,j} - w_{i-1,j}}{2 \\Delta Z} \\right) + Da_p^{i,j} w_{i,j} = Da_p^{i,j} C_{eq}^{i,j}$$\n",
    "\n",
    "**Backward-difference method, (j+1)st step in time:** \n",
    "$$\\frac{w_{i,j+1} - w_{i, j}}{\\Delta \\tau _{i,j+1}} + \\left( \\frac{w_{i+1,j+1} - w_{i-1,j+1}}{2 \\Delta Z} \\right) + Da_p^{i,j+1} w_{i,j+1} = Da_p^{i,j+1} C_{eq}^{i,j+1}$$\n",
    "\n",
    "**Crank-Nicolson (averaged) method:**\n",
    "\n",
    "Since we only have information from the jth step in time, we will assume that $\\Delta \\tau _{i,j+1} \\approx \\Delta \\tau _{i,j}$, $Da_p^{i,j+1}\\approx Da_p^{i,j}$ and $C_{eq}^{i,j+1} \\approx C_{eq}^{i,j}$\n",
    "\n",
    "$$\\frac{w_{i, j+1} - w_{i, j}}{\\Delta \\tau _{i,j}} = -\\frac{1}{2} \\left( \\frac{w_{i+1,j+1} - w_{i-1,j+1}}{2 \\Delta Z} + \\frac{w_{i+1,j} - w_{i-1,j}}{2 \\Delta Z} \\right) - \\frac{Da_p^{i,j}}{2} \\left( w_{i,j+1} + w_{i,j} \\right) + Da_p^{i,j} C_{eq}^{i,j}$$\n",
    "\n",
    "$$\\Rightarrow w_{i,j+1} - w_{i, j} = -\\alpha^{i,j}\\left( w_{i+1,j+1} - w_{i-1,j+1} + w_{i+1,j} - w_{i-1,j} \\right) -\\beta^{i,j}\\left( w_{i,j+1} + w_{i,j} \\right) + \\gamma^{i,j}$$\n",
    "\n",
    "Where\n",
    "\n",
    "$$\\alpha^{i,j} = \\frac{\\Delta \\tau _{i,j}}{4 \\Delta Z}, \\quad \\beta^{i,j} = \\frac{\\Delta \\tau _{i,j} Da_p^{i,j}}{2}, \\quad \\gamma^{i,j} = \\Delta \\tau _{i,j} Da_p^{i,j} C_{eq}^{i,j}$$\n",
    "\n",
    "$$\\Rightarrow w_{i,j+1} + \\alpha^{i,j}\\left( w_{i+1,j+1} - w_{i-1,j+1} \\right) + \\beta^{i,j} w_{i,j+1} = w_{i, j} + \\alpha^{i,j} \\left( w_{i-1,j} - w_{i+1,j}\\right) - \\beta^{i,j} w_{i,j}  + \\gamma^{i,j}$$\n",
    "\n",
    "$$\\Rightarrow \\left( 1 + \\beta^{i,j} \\right) w_{i,j+1} + \\alpha^{i,j}\\left( w_{i+1,j+1} - w_{i-1,j+1} \\right) = \\left( 1 - \\beta^{i,j} \\right) w_{i, j} + \\alpha^{i,j} \\left( w_{i-1,j} - w_{i+1,j}\\right) + \\gamma^{i,j}$$"
   ]
  }
 ],
 "metadata": {
  "kernelspec": {
   "display_name": "ADEPTenv",
   "language": "python",
   "name": "python3"
  },
  "language_info": {
   "codemirror_mode": {
    "name": "ipython",
    "version": 3
   },
   "file_extension": ".py",
   "mimetype": "text/x-python",
   "name": "python",
   "nbconvert_exporter": "python",
   "pygments_lexer": "ipython3",
   "version": "3.10.8"
  },
  "orig_nbformat": 4,
  "vscode": {
   "interpreter": {
    "hash": "d2d4182e68554646bdf1aa417eeef520cdc1b03fec9817bd6ab2c1d7b0876708"
   }
  }
 },
 "nbformat": 4,
 "nbformat_minor": 2
}
